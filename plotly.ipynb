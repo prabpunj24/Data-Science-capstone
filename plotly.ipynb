{
 "cells": [
  {
   "cell_type": "code",
   "execution_count": 1,
   "metadata": {
    "scrolled": true
   },
   "outputs": [
    {
     "name": "stdout",
     "output_type": "stream",
     "text": [
      "Requirement already satisfied: pandas in c:\\users\\prabp\\anaconda3\\lib\\site-packages (1.0.1)\n",
      "Requirement already satisfied: dash in c:\\users\\prabp\\anaconda3\\lib\\site-packages (2.0.0)\n",
      "Requirement already satisfied: numpy>=1.13.3 in c:\\users\\prabp\\anaconda3\\lib\\site-packages (from pandas) (1.18.1)\n",
      "Requirement already satisfied: pytz>=2017.2 in c:\\users\\prabp\\anaconda3\\lib\\site-packages (from pandas) (2019.3)\n",
      "Requirement already satisfied: python-dateutil>=2.6.1 in c:\\users\\prabp\\anaconda3\\lib\\site-packages (from pandas) (2.8.1)\n",
      "Requirement already satisfied: dash-table==5.0.0 in c:\\users\\prabp\\anaconda3\\lib\\site-packages (from dash) (5.0.0)\n",
      "Requirement already satisfied: Flask>=1.0.4 in c:\\users\\prabp\\anaconda3\\lib\\site-packages (from dash) (1.1.1)\n",
      "Requirement already satisfied: flask-compress in c:\\users\\prabp\\anaconda3\\lib\\site-packages (from dash) (1.10.1)\n",
      "Requirement already satisfied: dash-core-components==2.0.0 in c:\\users\\prabp\\anaconda3\\lib\\site-packages (from dash) (2.0.0)\n",
      "Requirement already satisfied: dash-html-components==2.0.0 in c:\\users\\prabp\\anaconda3\\lib\\site-packages (from dash) (2.0.0)\n",
      "Requirement already satisfied: plotly>=5.0.0 in c:\\users\\prabp\\anaconda3\\lib\\site-packages (from dash) (5.3.1)\n",
      "Requirement already satisfied: six>=1.5 in c:\\users\\prabp\\anaconda3\\lib\\site-packages (from python-dateutil>=2.6.1->pandas) (1.14.0)\n",
      "Requirement already satisfied: itsdangerous>=0.24 in c:\\users\\prabp\\anaconda3\\lib\\site-packages (from Flask>=1.0.4->dash) (1.1.0)\n",
      "Requirement already satisfied: Werkzeug>=0.15 in c:\\users\\prabp\\anaconda3\\lib\\site-packages (from Flask>=1.0.4->dash) (1.0.0)\n",
      "Requirement already satisfied: click>=5.1 in c:\\users\\prabp\\anaconda3\\lib\\site-packages (from Flask>=1.0.4->dash) (7.0)\n",
      "Requirement already satisfied: Jinja2>=2.10.1 in c:\\users\\prabp\\anaconda3\\lib\\site-packages (from Flask>=1.0.4->dash) (2.11.1)\n",
      "Requirement already satisfied: brotli in c:\\users\\prabp\\anaconda3\\lib\\site-packages (from flask-compress->dash) (1.0.9)\n",
      "Requirement already satisfied: tenacity>=6.2.0 in c:\\users\\prabp\\anaconda3\\lib\\site-packages (from plotly>=5.0.0->dash) (8.0.1)\n",
      "Requirement already satisfied: MarkupSafe>=0.23 in c:\\users\\prabp\\anaconda3\\lib\\site-packages (from Jinja2>=2.10.1->Flask>=1.0.4->dash) (1.1.1)\n"
     ]
    }
   ],
   "source": [
    "!pip install pandas dash"
   ]
  },
  {
   "cell_type": "code",
   "execution_count": 5,
   "metadata": {},
   "outputs": [
    {
     "name": "stdout",
     "output_type": "stream",
     "text": [
      "Requirement already satisfied: dash_html_components in c:\\users\\prabp\\anaconda3\\lib\\site-packages (2.0.0)\n",
      "Requirement already satisfied: dash_core_components in c:\\users\\prabp\\anaconda3\\lib\\site-packages (2.0.0)\n"
     ]
    }
   ],
   "source": [
    "!pip install dash_html_components\n",
    "!pip install dash_core_components"
   ]
  },
  {
   "cell_type": "code",
   "execution_count": 6,
   "metadata": {},
   "outputs": [],
   "source": [
    "# Import required libraries\n",
    "import pandas as pd\n",
    "import dash\n",
    "import dash_html_components as html\n",
    "import dash_core_components as dcc\n",
    "from dash.dependencies import Input, Output\n",
    "import plotly.express as px\n",
    "\n",
    "# Read the airline data into pandas dataframe\n",
    "spacex_df = pd.read_csv(\"spacex_launch_dash.csv\")\n",
    "max_payload = spacex_df['Payload Mass (kg)'].max()\n",
    "min_payload = spacex_df['Payload Mass (kg)'].min()\n"
   ]
  },
  {
   "cell_type": "code",
   "execution_count": null,
   "metadata": {},
   "outputs": [
    {
     "name": "stdout",
     "output_type": "stream",
     "text": [
      "Dash is running on http://127.0.0.1:8050/\n",
      "\n",
      " * Serving Flask app \"__main__\" (lazy loading)\n",
      " * Environment: production\n",
      "   WARNING: This is a development server. Do not use it in a production deployment.\n",
      "   Use a production WSGI server instead.\n",
      " * Debug mode: off\n"
     ]
    },
    {
     "name": "stderr",
     "output_type": "stream",
     "text": [
      " * Running on http://127.0.0.1:8050/ (Press CTRL+C to quit)\n"
     ]
    }
   ],
   "source": [
    "# Create a dash application\n",
    "app = dash.Dash(__name__)\n",
    "\n",
    "# Create an app layout\n",
    "app.layout = html.Div(children=[html.H1('SpaceX Launch Records Dashboard',\n",
    "                                        style={'textAlign': 'center', 'color': '#503D36',\n",
    "                                               'font-size': 40}),\n",
    "                                # TASK 1: Add a dropdown list to enable Launch Site selection\n",
    "                                # The default select value is for ALL sites\n",
    "                                # dcc.Dropdown(id='site-dropdown',...)\n",
    "                                dcc.Dropdown(\n",
    "                                    id='site-dropdown',\n",
    "                                    options=[\n",
    "                                        {'label': 'All sites', 'value': 'ALL'},\n",
    "                                        {'label': 'CCAFS LC-40', 'value': 'CCAFS LC-40'},\n",
    "                                        {'label': 'VAFB SLC-4E', 'value': 'VAFB SLC-4E'},\n",
    "                                        {'label': 'KSC LC-39A', 'value': 'KSC LC-39A'},\n",
    "                                        {'label': 'CCAFS SLC-40', 'value': 'CCAFS SLC-40'}                                        \n",
    "                                    ],\n",
    "                                    value='ALL',\n",
    "                                    placeholder='Select a Launch Site here',\n",
    "                                    searchable = True,\n",
    "                                    clearable=True),\n",
    "                                html.Br(),\n",
    "\n",
    "                                # TASK 2: Add a pie chart to show the total successful launches count for all sites\n",
    "                                # If a specific launch site was selected, show the Success vs. Failed counts for the site\n",
    "                                html.Div(dcc.Graph(id='success-pie-chart')),\n",
    "                                html.Br(),\n",
    "\n",
    "                                html.P(\"Payload range (Kg):\"),\n",
    "                                # TASK 3: Add a slider to select payload range\n",
    "                                dcc.RangeSlider(id='payload-slider',\n",
    "                                                min = 0,\n",
    "                                                max=10000,\n",
    "                                                step=1000,\n",
    "                                                value=[min_payload, max_payload], \n",
    "                                                marks = {0 : '0',\n",
    "                                                        1000: '1000',\n",
    "                                                        2000 : '2000',\n",
    "                                                        3000 : '3000',\n",
    "                                                        4000 : '4000',\n",
    "                                                        5000 : '5000',\n",
    "                                                        6000 : '6000',\n",
    "                                                        7000 : '7000',\n",
    "                                                        8000 : '8000',\n",
    "                                                        9000 : '9000',\n",
    "                                                        10000 : '10000'\n",
    "                                                    }\n",
    "                                                ),\n",
    "                                html.Div(id='output-container-range-slider'),\n",
    "\n",
    "                                # TASK 4: Add a scatter chart to show the correlation between payload and launch success\n",
    "                                html.Div(dcc.Graph(id='success-payload-scatter-chart')),\n",
    "                                ])\n",
    "\n",
    "# TASK 2:\n",
    "# Add a callback function for `site-dropdown` as input, `success-pie-chart` as output\n",
    "\n",
    "@app.callback(Output(component_id='success-pie-chart', component_property='figure'),\n",
    "                Input(component_id='site-dropdown', component_property='value'))\n",
    "\n",
    "def get_pie(site_dropdown):\n",
    "    if site_dropdown == 'ALL':\n",
    "        title_pie = \"Success Launches for all sites\"\n",
    "        fig = px.pie(spacex_df, values = 'class', names = 'Launch Site', title = title_pie)\n",
    "        return fig\n",
    "\n",
    "    else:\n",
    "        title_pie = f\"Success Launches for site {site_dropdown}\"\n",
    "        filtered_DD= spacex_df[spacex_df['Launch Site'] == site_dropdown]\n",
    "        filtered_LS = filtered_DD.groupby(['Launch Site','class']).size().reset_index(name='class count')\n",
    "        fig = px.pie(filtered_LS, values='class count', names='class', title=title_pie)\n",
    "    \n",
    "        return fig\n",
    "\n",
    "\n",
    "# TASK 4:\n",
    "# Add a callback function for `site-dropdown` and `payload-slider` as inputs, `success-payload-scatter-chart` as output\n",
    "@app.callback(Output(component_id='success-payload-scatter-chart', component_property='figure'),\n",
    "                [Input(component_id='site-dropdown', component_property='value'),\n",
    "                 Input(component_id= 'payload-slider', component_property='value')])\n",
    "\n",
    "def get_scatter(site_dropdown, slider_range):\n",
    "\n",
    "    low = slider_range[0]\n",
    "    high = slider_range[1]\n",
    "    df = spacex_df[spacex_df['Payload Mass (kg)'].between(low, high)]\n",
    "\n",
    "    if site_dropdown == 'ALL':\n",
    "        title_scatter = f'Payload and Booster Versions for all sites'\n",
    "        fig = px.scatter(df, x ='Payload Mass (kg)', y = 'class', color = \"Booster Version Category\")\n",
    "        return fig\n",
    "\n",
    "    else:\n",
    "        title_scatter = f'Payload and Booster Versions for site: {site_dropdown}'\n",
    "        filter_df=df[df['Launch Site'] == site_dropdown]\n",
    "        fig = px.scatter(filter_df, x ='Payload Mass (kg)', y = 'class', color = \"Booster Version Category\")\n",
    "        return fig\n",
    "\n",
    "\n",
    "# Run the app\n",
    "if __name__ == '__main__':\n",
    "    app.run_server()"
   ]
  },
  {
   "cell_type": "code",
   "execution_count": null,
   "metadata": {},
   "outputs": [],
   "source": []
  }
 ],
 "metadata": {
  "kernelspec": {
   "display_name": "Python 3",
   "language": "python",
   "name": "python3"
  },
  "language_info": {
   "codemirror_mode": {
    "name": "ipython",
    "version": 3
   },
   "file_extension": ".py",
   "mimetype": "text/x-python",
   "name": "python",
   "nbconvert_exporter": "python",
   "pygments_lexer": "ipython3",
   "version": "3.7.6"
  }
 },
 "nbformat": 4,
 "nbformat_minor": 4
}
